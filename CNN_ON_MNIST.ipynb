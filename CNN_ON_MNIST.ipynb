{
  "nbformat": 4,
  "nbformat_minor": 0,
  "metadata": {
    "colab": {
      "name": "CNN ON MNIST.ipynb",
      "provenance": [],
      "authorship_tag": "ABX9TyMPo/HAPS5896rhieAn3+c9",
      "include_colab_link": true
    },
    "kernelspec": {
      "name": "python3",
      "display_name": "Python 3"
    },
    "accelerator": "GPU"
  },
  "cells": [
    {
      "cell_type": "markdown",
      "metadata": {
        "id": "view-in-github",
        "colab_type": "text"
      },
      "source": [
        "<a href=\"https://colab.research.google.com/github/madhavjk/mltask/blob/main/CNN_ON_MNIST.ipynb\" target=\"_parent\"><img src=\"https://colab.research.google.com/assets/colab-badge.svg\" alt=\"Open In Colab\"/></a>"
      ]
    },
    {
      "cell_type": "markdown",
      "metadata": {
        "id": "VPEpYEi1tXN6"
      },
      "source": [
        "**CNN ON MNIST**"
      ]
    },
    {
      "cell_type": "code",
      "metadata": {
        "id": "hJzhg_b1pB2A"
      },
      "source": [
        "import numpy as np\r\n",
        "import pandas as pd \r\n",
        "import os\r\n",
        "\r\n",
        "from keras.layers import Dense, Conv2D, Dropout, Flatten, MaxPooling2D\r\n",
        "from keras.models import Sequential\r\n",
        "import matplotlib.pyplot as plt\r\n",
        "%matplotlib inline\r\n",
        "import tensorflow as tf"
      ],
      "execution_count": 1,
      "outputs": []
    },
    {
      "cell_type": "code",
      "metadata": {
        "id": "raMMpxxpqv9c"
      },
      "source": [
        "from keras.datasets import mnist"
      ],
      "execution_count": 3,
      "outputs": []
    },
    {
      "cell_type": "code",
      "metadata": {
        "id": "2WnWpUAXqdjy"
      },
      "source": [
        "(x_train, y_train), (x_test, y_test) = mnist.load_data()"
      ],
      "execution_count": 7,
      "outputs": []
    },
    {
      "cell_type": "code",
      "metadata": {
        "colab": {
          "base_uri": "https://localhost:8080/",
          "height": 435
        },
        "id": "9YuQzSUXqzpy",
        "outputId": "8bcc774b-a7cc-4df9-8d17-af8e66ddbfb6"
      },
      "source": [
        "index = 6\r\n",
        "plt.imshow(x_train[index].reshape((28,28)))\r\n",
        "print (\"y = \" + str(y_train[index]))"
      ],
      "execution_count": 9,
      "outputs": [
        {
          "output_type": "stream",
          "text": [
            "y = 1\n"
          ],
          "name": "stdout"
        },
        {
          "output_type": "display_data",
          "data": {
            "image/png": "[encoded data removed]",
            "text/plain": [
              "<Figure size 432x288 with 1 Axes>"
            ]
          },
          "metadata": {
            "tags": [],
            "needs_background": "light"
          }
        }
      ]
    },
    {
      "cell_type": "code",
      "metadata": {
        "colab": {
          "base_uri": "https://localhost:8080/"
        },
        "id": "Bdt9MagRrLif",
        "outputId": "a6bef1a9-ceee-4743-dff2-cbb2bd26d362"
      },
      "source": [
        "# Exploring the dataset \r\n",
        "m_train = x_train.shape[0]\r\n",
        "num_px = x_train.shape[1]\r\n",
        "m_test = x_test.shape[0]\r\n",
        "\r\n",
        "print (\"Number of training examples: \" + str(m_train))\r\n",
        "print (\"Number of testing examples: \" + str(m_test))\r\n",
        "print (\"Each image is of size: (\" + str(num_px) + \", \" + str(num_px)+\")\")\r\n",
        "print (\"train_x_orig shape: \" + str(x_train.shape))\r\n",
        "print (\"train_y shape: \" + str(y_train.shape))\r\n",
        "print (\"test_x_orig shape: \" + str(x_test.shape))"
      ],
      "execution_count": 10,
      "outputs": [
        {
          "output_type": "stream",
          "text": [
            "Number of training examples: 60000\n",
            "Number of testing examples: 10000\n",
            "Each image is of size: (28, 28)\n",
            "train_x_orig shape: (60000, 28, 28)\n",
            "train_y shape: (60000,)\n",
            "test_x_orig shape: (10000, 28, 28)\n"
          ],
          "name": "stdout"
        }
      ]
    },
    {
      "cell_type": "code",
      "metadata": {
        "colab": {
          "base_uri": "https://localhost:8080/"
        },
        "id": "rv92DUkvrP6A",
        "outputId": "c789a6c3-748c-494b-f57b-7d4573545223"
      },
      "source": [
        "# Reshape the training and test examples \r\n",
        "x_train, x_test = x_train / 255.0, x_test / 255.0\r\n",
        "train_x = x_train.reshape((m_train,28,28,1)) # The \"-1\" makes reshape flatten the remaining dimensions\r\n",
        "test_x= x_test.reshape((m_test,28,28,1))\r\n",
        "\r\n",
        "input_shape=(28,28,1)\r\n",
        "train_x=train_x.astype('float32')\r\n",
        "test_x=test_x.astype('float32')\r\n",
        "\r\n",
        "print (\"train_x's shape: \" + str(train_x.shape))\r\n",
        "print (\"test_x's shape: \" + str(test_x.shape))"
      ],
      "execution_count": 11,
      "outputs": [
        {
          "output_type": "stream",
          "text": [
            "train_x's shape: (60000, 28, 28, 1)\n",
            "test_x's shape: (10000, 28, 28, 1)\n"
          ],
          "name": "stdout"
        }
      ]
    },
    {
      "cell_type": "markdown",
      "metadata": {
        "id": "pVbi46lSrVNX"
      },
      "source": [
        "**CNN ON MNIST**"
      ]
    },
    {
      "cell_type": "code",
      "metadata": {
        "id": "IN7sUg7QrT0c"
      },
      "source": [
        "#implementing the model of the layers\r\n",
        "model=Sequential()\r\n",
        "model.add(Conv2D(6,kernel_size=(1,1),input_shape=input_shape))\r\n",
        "model.add(MaxPooling2D(pool_size=(2,2),strides=2))\r\n",
        "model.add(Conv2D(16,kernel_size=(5,5),input_shape=(14,14,6)))\r\n",
        "model.add(MaxPooling2D(pool_size=(2,2),strides=2))\r\n",
        "model.add(Flatten())\r\n",
        "model.add(Dense(120,activation=tf.nn.relu))\r\n",
        "model.add(Dense(84,activation=tf.nn.relu))\r\n",
        "model.add(Dense(10,activation=tf.nn.softmax))"
      ],
      "execution_count": 12,
      "outputs": []
    },
    {
      "cell_type": "code",
      "metadata": {
        "id": "Bvq70Lfirg3V"
      },
      "source": [
        "#compiling\r\n",
        "model.compile(optimizer='adam',loss='sparse_categorical_crossentropy',metrics=['accuracy'])"
      ],
      "execution_count": 13,
      "outputs": []
    },
    {
      "cell_type": "code",
      "metadata": {
        "id": "QoBlr_x2syrv"
      },
      "source": [
        ""
      ],
      "execution_count": null,
      "outputs": []
    },
    {
      "cell_type": "code",
      "metadata": {
        "colab": {
          "base_uri": "https://localhost:8080/"
        },
        "id": "RlQpAQUQrnaa",
        "outputId": "4718cacf-f897-4f4c-e65c-512fa20b7604"
      },
      "source": [
        "model.fit(x=train_x,y=y_train,epochs=30)"
      ],
      "execution_count": 14,
      "outputs": [
        {
          "output_type": "stream",
          "text": [
            "Epoch 1/30\n",
            "1875/1875 [==============================] - 13s 3ms/step - loss: 0.4231 - accuracy: 0.8774\n",
            "Epoch 2/30\n",
            "1875/1875 [==============================] - 6s 3ms/step - loss: 0.0756 - accuracy: 0.9773\n",
            "Epoch 3/30\n",
            "1875/1875 [==============================] - 7s 3ms/step - loss: 0.0485 - accuracy: 0.9846\n",
            "Epoch 4/30\n",
            "1875/1875 [==============================] - 6s 3ms/step - loss: 0.0398 - accuracy: 0.9866\n",
            "Epoch 5/30\n",
            "1875/1875 [==============================] - 6s 3ms/step - loss: 0.0287 - accuracy: 0.9912\n",
            "Epoch 6/30\n",
            "1875/1875 [==============================] - 6s 3ms/step - loss: 0.0250 - accuracy: 0.9924\n",
            "Epoch 7/30\n",
            "1875/1875 [==============================] - 6s 3ms/step - loss: 0.0188 - accuracy: 0.9938\n",
            "Epoch 8/30\n",
            "1875/1875 [==============================] - 6s 3ms/step - loss: 0.0168 - accuracy: 0.9948\n",
            "Epoch 9/30\n",
            "1875/1875 [==============================] - 6s 3ms/step - loss: 0.0149 - accuracy: 0.9951\n",
            "Epoch 10/30\n",
            "1875/1875 [==============================] - 6s 3ms/step - loss: 0.0151 - accuracy: 0.9949\n",
            "Epoch 11/30\n",
            "1875/1875 [==============================] - 7s 4ms/step - loss: 0.0110 - accuracy: 0.9962\n",
            "Epoch 12/30\n",
            "1875/1875 [==============================] - 6s 3ms/step - loss: 0.0100 - accuracy: 0.9967\n",
            "Epoch 13/30\n",
            "1875/1875 [==============================] - 6s 3ms/step - loss: 0.0101 - accuracy: 0.9964\n",
            "Epoch 14/30\n",
            "1875/1875 [==============================] - 6s 3ms/step - loss: 0.0102 - accuracy: 0.9962\n",
            "Epoch 15/30\n",
            "1875/1875 [==============================] - 6s 3ms/step - loss: 0.0062 - accuracy: 0.9979\n",
            "Epoch 16/30\n",
            "1875/1875 [==============================] - 6s 3ms/step - loss: 0.0089 - accuracy: 0.9973\n",
            "Epoch 17/30\n",
            "1875/1875 [==============================] - 7s 3ms/step - loss: 0.0075 - accuracy: 0.9975\n",
            "Epoch 18/30\n",
            "1875/1875 [==============================] - 6s 3ms/step - loss: 0.0062 - accuracy: 0.9979\n",
            "Epoch 19/30\n",
            "1875/1875 [==============================] - 6s 3ms/step - loss: 0.0066 - accuracy: 0.9979\n",
            "Epoch 20/30\n",
            "1875/1875 [==============================] - 7s 3ms/step - loss: 0.0075 - accuracy: 0.9973\n",
            "Epoch 21/30\n",
            "1875/1875 [==============================] - 7s 4ms/step - loss: 0.0037 - accuracy: 0.9988\n",
            "Epoch 22/30\n",
            "1875/1875 [==============================] - 7s 3ms/step - loss: 0.0061 - accuracy: 0.9983\n",
            "Epoch 23/30\n",
            "1875/1875 [==============================] - 6s 3ms/step - loss: 0.0069 - accuracy: 0.9975\n",
            "Epoch 24/30\n",
            "1875/1875 [==============================] - 6s 3ms/step - loss: 0.0058 - accuracy: 0.9984\n",
            "Epoch 25/30\n",
            "1875/1875 [==============================] - 6s 3ms/step - loss: 0.0054 - accuracy: 0.9981\n",
            "Epoch 26/30\n",
            "1875/1875 [==============================] - 6s 3ms/step - loss: 0.0047 - accuracy: 0.9985\n",
            "Epoch 27/30\n",
            "1875/1875 [==============================] - 6s 3ms/step - loss: 0.0045 - accuracy: 0.9985\n",
            "Epoch 28/30\n",
            "1875/1875 [==============================] - 6s 3ms/step - loss: 0.0040 - accuracy: 0.9987\n",
            "Epoch 29/30\n",
            "1875/1875 [==============================] - 6s 3ms/step - loss: 0.0049 - accuracy: 0.9986\n",
            "Epoch 30/30\n",
            "1875/1875 [==============================] - 6s 3ms/step - loss: 0.0032 - accuracy: 0.9989\n"
          ],
          "name": "stdout"
        },
        {
          "output_type": "execute_result",
          "data": {
            "text/plain": [
              "<tensorflow.python.keras.callbacks.History at 0x7f97c04680b8>"
            ]
          },
          "metadata": {
            "tags": []
          },
          "execution_count": 14
        }
      ]
    },
    {
      "cell_type": "code",
      "metadata": {
        "colab": {
          "base_uri": "https://localhost:8080/",
          "height": 435
        },
        "id": "TD9LIRJSsz6Z",
        "outputId": "2f5c9f2a-33e1-48c5-e2b2-75b3a2a6057e"
      },
      "source": [
        "#printed example from the test database\r\n",
        "image_index=231\r\n",
        "plt.imshow(x_test[image_index].reshape(28,28),cmap='Greys')\r\n",
        "pred=model.predict(x_test[image_index].reshape(1, 28,28, 1))\r\n",
        "print(\"Predicted No is: \",pred.argmax())\r\n"
      ],
      "execution_count": 15,
      "outputs": [
        {
          "output_type": "stream",
          "text": [
            "Predicted No is:  3\n"
          ],
          "name": "stdout"
        },
        {
          "output_type": "display_data",
          "data": {
            "image/png": "[encoded data removed]",
            "text/plain": [
              "<Figure size 432x288 with 1 Axes>"
            ]
          },
          "metadata": {
            "tags": [],
            "needs_background": "light"
          }
        }
      ]
    }
  ]
}